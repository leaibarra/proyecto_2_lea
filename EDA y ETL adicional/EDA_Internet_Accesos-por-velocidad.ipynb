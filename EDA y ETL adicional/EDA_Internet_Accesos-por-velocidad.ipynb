{
 "cells": [
  {
   "cell_type": "markdown",
   "metadata": {},
   "source": [
    "# Internet Accesos por velocidad"
   ]
  },
  {
   "cell_type": "markdown",
   "metadata": {},
   "source": [
    "### Data resumida"
   ]
  },
  {
   "cell_type": "code",
   "execution_count": 1,
   "metadata": {},
   "outputs": [],
   "source": [
    "import pandas as pd\n",
    "import matplotlib.pyplot as plt\n",
    "import seaborn as sns"
   ]
  },
  {
   "cell_type": "code",
   "execution_count": 2,
   "metadata": {},
   "outputs": [],
   "source": [
    "acceso_velocidad = pd.read_csv('../Datasets/Internet_Accesos-por-velocidad.csv')"
   ]
  },
  {
   "cell_type": "code",
   "execution_count": 3,
   "metadata": {},
   "outputs": [
    {
     "data": {
      "text/html": [
       "<div>\n",
       "<style scoped>\n",
       "    .dataframe tbody tr th:only-of-type {\n",
       "        vertical-align: middle;\n",
       "    }\n",
       "\n",
       "    .dataframe tbody tr th {\n",
       "        vertical-align: top;\n",
       "    }\n",
       "\n",
       "    .dataframe thead th {\n",
       "        text-align: right;\n",
       "    }\n",
       "</style>\n",
       "<table border=\"1\" class=\"dataframe\">\n",
       "  <thead>\n",
       "    <tr style=\"text-align: right;\">\n",
       "      <th></th>\n",
       "      <th>Año</th>\n",
       "      <th>Trimestre</th>\n",
       "      <th>Hasta 512 kbps</th>\n",
       "      <th>Entre 512 Kbps y 1 Mbps</th>\n",
       "      <th>Entre 1 Mbps y 6 Mbps</th>\n",
       "      <th>Entre 6 Mbps y 10 Mbps</th>\n",
       "      <th>Entre 10 Mbps y 20 Mbps</th>\n",
       "      <th>Entre 20 Mbps y 30 Mbps</th>\n",
       "      <th>Más de 30 Mbps</th>\n",
       "      <th>OTROS</th>\n",
       "      <th>Total</th>\n",
       "    </tr>\n",
       "  </thead>\n",
       "  <tbody>\n",
       "    <tr>\n",
       "      <th>0</th>\n",
       "      <td>2022</td>\n",
       "      <td>4</td>\n",
       "      <td>31.981</td>\n",
       "      <td>85.668</td>\n",
       "      <td>1.075.272</td>\n",
       "      <td>1.109.421</td>\n",
       "      <td>765.015</td>\n",
       "      <td>335.573</td>\n",
       "      <td>7.410.902</td>\n",
       "      <td>394.282</td>\n",
       "      <td>11.208.114</td>\n",
       "    </tr>\n",
       "    <tr>\n",
       "      <th>1</th>\n",
       "      <td>2022</td>\n",
       "      <td>3</td>\n",
       "      <td>33.013</td>\n",
       "      <td>96.727</td>\n",
       "      <td>1.161.370</td>\n",
       "      <td>1.151.906</td>\n",
       "      <td>823.505</td>\n",
       "      <td>479.822</td>\n",
       "      <td>6.995.750</td>\n",
       "      <td>349.035</td>\n",
       "      <td>11.091.128</td>\n",
       "    </tr>\n",
       "    <tr>\n",
       "      <th>2</th>\n",
       "      <td>2022</td>\n",
       "      <td>2</td>\n",
       "      <td>33.667</td>\n",
       "      <td>99.498</td>\n",
       "      <td>1.193.090</td>\n",
       "      <td>1.197.030</td>\n",
       "      <td>856.562</td>\n",
       "      <td>485.321</td>\n",
       "      <td>6.741.922</td>\n",
       "      <td>351.594</td>\n",
       "      <td>10.958.684</td>\n",
       "    </tr>\n",
       "    <tr>\n",
       "      <th>3</th>\n",
       "      <td>2022</td>\n",
       "      <td>1</td>\n",
       "      <td>34.890</td>\n",
       "      <td>104.840</td>\n",
       "      <td>1.263.273</td>\n",
       "      <td>1.209.148</td>\n",
       "      <td>967.508</td>\n",
       "      <td>509.830</td>\n",
       "      <td>6.336.187</td>\n",
       "      <td>198.333</td>\n",
       "      <td>10.624.009</td>\n",
       "    </tr>\n",
       "    <tr>\n",
       "      <th>4</th>\n",
       "      <td>2021</td>\n",
       "      <td>4</td>\n",
       "      <td>41.262</td>\n",
       "      <td>28.521</td>\n",
       "      <td>1.413.208</td>\n",
       "      <td>1.245.333</td>\n",
       "      <td>976.539</td>\n",
       "      <td>558.358</td>\n",
       "      <td>6.032.322</td>\n",
       "      <td>194.251</td>\n",
       "      <td>10.489.794</td>\n",
       "    </tr>\n",
       "  </tbody>\n",
       "</table>\n",
       "</div>"
      ],
      "text/plain": [
       "    Año  Trimestre  Hasta 512 kbps  Entre 512 Kbps y 1 Mbps  \\\n",
       "0  2022          4          31.981                   85.668   \n",
       "1  2022          3          33.013                   96.727   \n",
       "2  2022          2          33.667                   99.498   \n",
       "3  2022          1          34.890                  104.840   \n",
       "4  2021          4          41.262                   28.521   \n",
       "\n",
       "  Entre 1 Mbps y 6 Mbps Entre 6 Mbps y 10 Mbps Entre 10 Mbps y 20 Mbps  \\\n",
       "0             1.075.272              1.109.421                 765.015   \n",
       "1             1.161.370              1.151.906                 823.505   \n",
       "2             1.193.090              1.197.030                 856.562   \n",
       "3             1.263.273              1.209.148                 967.508   \n",
       "4             1.413.208              1.245.333                 976.539   \n",
       "\n",
       "  Entre 20 Mbps y 30 Mbps Más de 30 Mbps    OTROS       Total  \n",
       "0                 335.573      7.410.902  394.282  11.208.114  \n",
       "1                 479.822      6.995.750  349.035  11.091.128  \n",
       "2                 485.321      6.741.922  351.594  10.958.684  \n",
       "3                 509.830      6.336.187  198.333  10.624.009  \n",
       "4                 558.358      6.032.322  194.251  10.489.794  "
      ]
     },
     "execution_count": 3,
     "metadata": {},
     "output_type": "execute_result"
    }
   ],
   "source": [
    "acceso_velocidad.head()"
   ]
  },
  {
   "cell_type": "code",
   "execution_count": 4,
   "metadata": {},
   "outputs": [
    {
     "name": "stdout",
     "output_type": "stream",
     "text": [
      "<class 'pandas.core.frame.DataFrame'>\n",
      "RangeIndex: 36 entries, 0 to 35\n",
      "Data columns (total 11 columns):\n",
      " #   Column                   Non-Null Count  Dtype  \n",
      "---  ------                   --------------  -----  \n",
      " 0   Año                      36 non-null     int64  \n",
      " 1   Trimestre                36 non-null     int64  \n",
      " 2   Hasta 512 kbps           36 non-null     float64\n",
      " 3   Entre 512 Kbps y 1 Mbps  36 non-null     float64\n",
      " 4   Entre 1 Mbps y 6 Mbps    36 non-null     object \n",
      " 5   Entre 6 Mbps y 10 Mbps   36 non-null     object \n",
      " 6   Entre 10 Mbps y 20 Mbps  36 non-null     object \n",
      " 7   Entre 20 Mbps y 30 Mbps  36 non-null     object \n",
      " 8   Más de 30 Mbps           36 non-null     object \n",
      " 9   OTROS                    36 non-null     float64\n",
      " 10  Total                    36 non-null     object \n",
      "dtypes: float64(3), int64(2), object(6)\n",
      "memory usage: 3.2+ KB\n"
     ]
    }
   ],
   "source": [
    "acceso_velocidad.info()"
   ]
  },
  {
   "cell_type": "markdown",
   "metadata": {},
   "source": [
    "Los valores tienen un '.' para los miles. Asi que vamos a eliminar esos puntos para poder tranformarlos en datos de tipo entero."
   ]
  },
  {
   "cell_type": "markdown",
   "metadata": {},
   "source": [
    "Primero convertimos todas las columnas a str para poder eliminar el '.'"
   ]
  },
  {
   "cell_type": "code",
   "execution_count": 5,
   "metadata": {},
   "outputs": [],
   "source": [
    "acceso_velocidad['Hasta 512 kbps'] = acceso_velocidad['Hasta 512 kbps'].astype(str)\n",
    "acceso_velocidad['Entre 512 Kbps y 1 Mbps'] = acceso_velocidad['Entre 512 Kbps y 1 Mbps'].astype(str)\n",
    "acceso_velocidad['Entre 1 Mbps y 6 Mbps'] = acceso_velocidad['Entre 1 Mbps y 6 Mbps'].astype(str)\n",
    "acceso_velocidad['Entre 6 Mbps y 10 Mbps'] = acceso_velocidad['Entre 6 Mbps y 10 Mbps'].astype(str)\n",
    "acceso_velocidad['Entre 10 Mbps y 20 Mbps'] = acceso_velocidad['Entre 10 Mbps y 20 Mbps'].astype(str)\n",
    "acceso_velocidad['Entre 20 Mbps y 30 Mbps'] = acceso_velocidad['Entre 20 Mbps y 30 Mbps'].astype(str)\n",
    "acceso_velocidad['Más de 30 Mbps'] = acceso_velocidad['Más de 30 Mbps'].astype(str)\n",
    "acceso_velocidad['OTROS'] = acceso_velocidad['OTROS'].astype(str)\n",
    "acceso_velocidad['Total'] = acceso_velocidad['Total'].astype(str)"
   ]
  },
  {
   "cell_type": "markdown",
   "metadata": {},
   "source": [
    "Una vez convertidas las columnas a str cambiamos el '.'por '' y pasamos las columnas a tipo int"
   ]
  },
  {
   "cell_type": "code",
   "execution_count": 6,
   "metadata": {},
   "outputs": [],
   "source": [
    "acceso_velocidad['Hasta 512 kbps'] = acceso_velocidad['Hasta 512 kbps'].str.replace('.','').astype(int)\n",
    "acceso_velocidad['Entre 512 Kbps y 1 Mbps'] = acceso_velocidad['Entre 512 Kbps y 1 Mbps'].str.replace('.','').astype(int)\n",
    "acceso_velocidad['Entre 1 Mbps y 6 Mbps'] = acceso_velocidad['Entre 1 Mbps y 6 Mbps'].str.replace('.','').astype(int)\n",
    "acceso_velocidad['Entre 6 Mbps y 10 Mbps'] = acceso_velocidad['Entre 6 Mbps y 10 Mbps'].str.replace('.','').astype(int)\n",
    "acceso_velocidad['Entre 10 Mbps y 20 Mbps'] = acceso_velocidad['Entre 10 Mbps y 20 Mbps'].str.replace('.','').astype(int)\n",
    "acceso_velocidad['Entre 20 Mbps y 30 Mbps'] = acceso_velocidad['Entre 20 Mbps y 30 Mbps'].str.replace('.','').astype(int)\n",
    "acceso_velocidad['Más de 30 Mbps'] = acceso_velocidad['Más de 30 Mbps'].str.replace('.','').astype(int)\n",
    "acceso_velocidad['OTROS'] = acceso_velocidad['OTROS'].str.replace('.','').astype(int)\n",
    "acceso_velocidad['Total'] = acceso_velocidad['Total'].str.replace('.','').astype(int)"
   ]
  },
  {
   "cell_type": "code",
   "execution_count": 7,
   "metadata": {},
   "outputs": [
    {
     "name": "stdout",
     "output_type": "stream",
     "text": [
      "<class 'pandas.core.frame.DataFrame'>\n",
      "RangeIndex: 36 entries, 0 to 35\n",
      "Data columns (total 11 columns):\n",
      " #   Column                   Non-Null Count  Dtype\n",
      "---  ------                   --------------  -----\n",
      " 0   Año                      36 non-null     int64\n",
      " 1   Trimestre                36 non-null     int64\n",
      " 2   Hasta 512 kbps           36 non-null     int32\n",
      " 3   Entre 512 Kbps y 1 Mbps  36 non-null     int32\n",
      " 4   Entre 1 Mbps y 6 Mbps    36 non-null     int32\n",
      " 5   Entre 6 Mbps y 10 Mbps   36 non-null     int32\n",
      " 6   Entre 10 Mbps y 20 Mbps  36 non-null     int32\n",
      " 7   Entre 20 Mbps y 30 Mbps  36 non-null     int32\n",
      " 8   Más de 30 Mbps           36 non-null     int32\n",
      " 9   OTROS                    36 non-null     int32\n",
      " 10  Total                    36 non-null     int32\n",
      "dtypes: int32(9), int64(2)\n",
      "memory usage: 2.0 KB\n"
     ]
    }
   ],
   "source": [
    "acceso_velocidad.info()"
   ]
  },
  {
   "cell_type": "code",
   "execution_count": 8,
   "metadata": {},
   "outputs": [
    {
     "data": {
      "text/html": [
       "<div>\n",
       "<style scoped>\n",
       "    .dataframe tbody tr th:only-of-type {\n",
       "        vertical-align: middle;\n",
       "    }\n",
       "\n",
       "    .dataframe tbody tr th {\n",
       "        vertical-align: top;\n",
       "    }\n",
       "\n",
       "    .dataframe thead th {\n",
       "        text-align: right;\n",
       "    }\n",
       "</style>\n",
       "<table border=\"1\" class=\"dataframe\">\n",
       "  <thead>\n",
       "    <tr style=\"text-align: right;\">\n",
       "      <th></th>\n",
       "      <th>Año</th>\n",
       "      <th>Trimestre</th>\n",
       "      <th>Hasta 512 kbps</th>\n",
       "      <th>Entre 512 Kbps y 1 Mbps</th>\n",
       "      <th>Entre 1 Mbps y 6 Mbps</th>\n",
       "      <th>Entre 6 Mbps y 10 Mbps</th>\n",
       "      <th>Entre 10 Mbps y 20 Mbps</th>\n",
       "      <th>Entre 20 Mbps y 30 Mbps</th>\n",
       "      <th>Más de 30 Mbps</th>\n",
       "      <th>OTROS</th>\n",
       "      <th>Total</th>\n",
       "    </tr>\n",
       "  </thead>\n",
       "  <tbody>\n",
       "    <tr>\n",
       "      <th>0</th>\n",
       "      <td>2022</td>\n",
       "      <td>4</td>\n",
       "      <td>31981</td>\n",
       "      <td>85668</td>\n",
       "      <td>1075272</td>\n",
       "      <td>1109421</td>\n",
       "      <td>765015</td>\n",
       "      <td>335573</td>\n",
       "      <td>7410902</td>\n",
       "      <td>394282</td>\n",
       "      <td>11208114</td>\n",
       "    </tr>\n",
       "    <tr>\n",
       "      <th>1</th>\n",
       "      <td>2022</td>\n",
       "      <td>3</td>\n",
       "      <td>33013</td>\n",
       "      <td>96727</td>\n",
       "      <td>1161370</td>\n",
       "      <td>1151906</td>\n",
       "      <td>823505</td>\n",
       "      <td>479822</td>\n",
       "      <td>6995750</td>\n",
       "      <td>349035</td>\n",
       "      <td>11091128</td>\n",
       "    </tr>\n",
       "    <tr>\n",
       "      <th>2</th>\n",
       "      <td>2022</td>\n",
       "      <td>2</td>\n",
       "      <td>33667</td>\n",
       "      <td>99498</td>\n",
       "      <td>1193090</td>\n",
       "      <td>1197030</td>\n",
       "      <td>856562</td>\n",
       "      <td>485321</td>\n",
       "      <td>6741922</td>\n",
       "      <td>351594</td>\n",
       "      <td>10958684</td>\n",
       "    </tr>\n",
       "    <tr>\n",
       "      <th>3</th>\n",
       "      <td>2022</td>\n",
       "      <td>1</td>\n",
       "      <td>3489</td>\n",
       "      <td>10484</td>\n",
       "      <td>1263273</td>\n",
       "      <td>1209148</td>\n",
       "      <td>967508</td>\n",
       "      <td>509830</td>\n",
       "      <td>6336187</td>\n",
       "      <td>198333</td>\n",
       "      <td>10624009</td>\n",
       "    </tr>\n",
       "    <tr>\n",
       "      <th>4</th>\n",
       "      <td>2021</td>\n",
       "      <td>4</td>\n",
       "      <td>41262</td>\n",
       "      <td>28521</td>\n",
       "      <td>1413208</td>\n",
       "      <td>1245333</td>\n",
       "      <td>976539</td>\n",
       "      <td>558358</td>\n",
       "      <td>6032322</td>\n",
       "      <td>194251</td>\n",
       "      <td>10489794</td>\n",
       "    </tr>\n",
       "  </tbody>\n",
       "</table>\n",
       "</div>"
      ],
      "text/plain": [
       "    Año  Trimestre  Hasta 512 kbps  Entre 512 Kbps y 1 Mbps  \\\n",
       "0  2022          4           31981                    85668   \n",
       "1  2022          3           33013                    96727   \n",
       "2  2022          2           33667                    99498   \n",
       "3  2022          1            3489                    10484   \n",
       "4  2021          4           41262                    28521   \n",
       "\n",
       "   Entre 1 Mbps y 6 Mbps  Entre 6 Mbps y 10 Mbps  Entre 10 Mbps y 20 Mbps  \\\n",
       "0                1075272                 1109421                   765015   \n",
       "1                1161370                 1151906                   823505   \n",
       "2                1193090                 1197030                   856562   \n",
       "3                1263273                 1209148                   967508   \n",
       "4                1413208                 1245333                   976539   \n",
       "\n",
       "   Entre 20 Mbps y 30 Mbps  Más de 30 Mbps   OTROS     Total  \n",
       "0                   335573         7410902  394282  11208114  \n",
       "1                   479822         6995750  349035  11091128  \n",
       "2                   485321         6741922  351594  10958684  \n",
       "3                   509830         6336187  198333  10624009  \n",
       "4                   558358         6032322  194251  10489794  "
      ]
     },
     "execution_count": 8,
     "metadata": {},
     "output_type": "execute_result"
    }
   ],
   "source": [
    "acceso_velocidad.head()"
   ]
  },
  {
   "cell_type": "code",
   "execution_count": 9,
   "metadata": {},
   "outputs": [
    {
     "data": {
      "image/png": "[encoded data removed]",
      "text/plain": [
       "<Figure size 1600x1000 with 1 Axes>"
      ]
     },
     "metadata": {},
     "output_type": "display_data"
    }
   ],
   "source": [
    "# Seleccionar las columnas de rango de velocidad\n",
    "rango = acceso_velocidad.columns[2:10]\n",
    "\n",
    "# Ajustar el tamaño del gráfico\n",
    "plt.figure(figsize=(16, 10))\n",
    "\n",
    "# Utilizar una paleta de colores distinguibles\n",
    "sns.set_palette(\"pastel\")\n",
    "\n",
    "# Crear el gráfico de barras apiladas para los totales\n",
    "sns.barplot(data=acceso_velocidad[rango], errorbar=None)\n",
    "\n",
    "# Agregar título y etiquetas\n",
    "plt.title('Conteo total de accesos por velocidad')\n",
    "plt.xlabel('Rango de Velocidad')\n",
    "plt.ylabel('Conteo Total de Conexiones')\n",
    "\n",
    "# Rotar las etiquetas en el eje x\n",
    "plt.xticks(rotation=45)\n",
    "\n",
    "# Mostrar el gráfico\n",
    "plt.show()"
   ]
  },
  {
   "cell_type": "markdown",
   "metadata": {},
   "source": [
    "En este grafico podemos ver el Conteo Total de Conexiones"
   ]
  },
  {
   "cell_type": "markdown",
   "metadata": {},
   "source": [
    "------------------------------------------------------------------------------------------------------------------"
   ]
  },
  {
   "cell_type": "markdown",
   "metadata": {},
   "source": [
    "# Internet Accesos por velocidad (completo)"
   ]
  },
  {
   "cell_type": "markdown",
   "metadata": {},
   "source": [
    "------------------------------------------------------------------------------------------------------------------"
   ]
  },
  {
   "cell_type": "code",
   "execution_count": 10,
   "metadata": {},
   "outputs": [],
   "source": [
    "acceso_velocidad_1 = pd.read_csv('../Datasets/Internet_Accesos-por-velocidad (1).csv')"
   ]
  },
  {
   "cell_type": "code",
   "execution_count": 11,
   "metadata": {},
   "outputs": [
    {
     "data": {
      "text/html": [
       "<div>\n",
       "<style scoped>\n",
       "    .dataframe tbody tr th:only-of-type {\n",
       "        vertical-align: middle;\n",
       "    }\n",
       "\n",
       "    .dataframe tbody tr th {\n",
       "        vertical-align: top;\n",
       "    }\n",
       "\n",
       "    .dataframe thead th {\n",
       "        text-align: right;\n",
       "    }\n",
       "</style>\n",
       "<table border=\"1\" class=\"dataframe\">\n",
       "  <thead>\n",
       "    <tr style=\"text-align: right;\">\n",
       "      <th></th>\n",
       "      <th>Año</th>\n",
       "      <th>Trimestre</th>\n",
       "      <th>Provincia</th>\n",
       "      <th>HASTA 512 kbps</th>\n",
       "      <th>+ 512 Kbps - 1 Mbps</th>\n",
       "      <th>+ 1 Mbps - 6 Mbps</th>\n",
       "      <th>+ 6 Mbps - 10 Mbps</th>\n",
       "      <th>+ 10 Mbps - 20 Mbps</th>\n",
       "      <th>+ 20 Mbps - 30 Mbps</th>\n",
       "      <th>+ 30 Mbps</th>\n",
       "      <th>OTROS</th>\n",
       "      <th>Total</th>\n",
       "    </tr>\n",
       "  </thead>\n",
       "  <tbody>\n",
       "    <tr>\n",
       "      <th>0</th>\n",
       "      <td>2022</td>\n",
       "      <td>4</td>\n",
       "      <td>Buenos Aires</td>\n",
       "      <td>28.934</td>\n",
       "      <td>23.347</td>\n",
       "      <td>259.866</td>\n",
       "      <td>281.550</td>\n",
       "      <td>244.555</td>\n",
       "      <td>98.670</td>\n",
       "      <td>3.760.109</td>\n",
       "      <td>97.634</td>\n",
       "      <td>4.794.665</td>\n",
       "    </tr>\n",
       "    <tr>\n",
       "      <th>1</th>\n",
       "      <td>2022</td>\n",
       "      <td>4</td>\n",
       "      <td>Capital Federal</td>\n",
       "      <td>516.000</td>\n",
       "      <td>5.096</td>\n",
       "      <td>31.320</td>\n",
       "      <td>64.653</td>\n",
       "      <td>36.336</td>\n",
       "      <td>8.116</td>\n",
       "      <td>1.299.117</td>\n",
       "      <td>106.772</td>\n",
       "      <td>1.551.926</td>\n",
       "    </tr>\n",
       "    <tr>\n",
       "      <th>2</th>\n",
       "      <td>2022</td>\n",
       "      <td>4</td>\n",
       "      <td>Catamarca</td>\n",
       "      <td>71.000</td>\n",
       "      <td>315.000</td>\n",
       "      <td>2.716</td>\n",
       "      <td>5.028</td>\n",
       "      <td>4.638</td>\n",
       "      <td>3.122</td>\n",
       "      <td>52.739</td>\n",
       "      <td>2.280</td>\n",
       "      <td>70.909</td>\n",
       "    </tr>\n",
       "    <tr>\n",
       "      <th>3</th>\n",
       "      <td>2022</td>\n",
       "      <td>4</td>\n",
       "      <td>Chaco</td>\n",
       "      <td>461.000</td>\n",
       "      <td>771.000</td>\n",
       "      <td>16.067</td>\n",
       "      <td>17.846</td>\n",
       "      <td>6.704</td>\n",
       "      <td>3.039</td>\n",
       "      <td>94.866</td>\n",
       "      <td>3.909</td>\n",
       "      <td>143.663</td>\n",
       "    </tr>\n",
       "    <tr>\n",
       "      <th>4</th>\n",
       "      <td>2022</td>\n",
       "      <td>4</td>\n",
       "      <td>Chubut</td>\n",
       "      <td>109.000</td>\n",
       "      <td>1.614</td>\n",
       "      <td>46.457</td>\n",
       "      <td>31.007</td>\n",
       "      <td>34.728</td>\n",
       "      <td>15.770</td>\n",
       "      <td>19.048</td>\n",
       "      <td>20.026</td>\n",
       "      <td>168.759</td>\n",
       "    </tr>\n",
       "  </tbody>\n",
       "</table>\n",
       "</div>"
      ],
      "text/plain": [
       "    Año  Trimestre        Provincia  HASTA 512 kbps  + 512 Kbps - 1 Mbps  \\\n",
       "0  2022          4     Buenos Aires          28.934               23.347   \n",
       "1  2022          4  Capital Federal         516.000                5.096   \n",
       "2  2022          4        Catamarca          71.000              315.000   \n",
       "3  2022          4            Chaco         461.000              771.000   \n",
       "4  2022          4           Chubut         109.000                1.614   \n",
       "\n",
       "  + 1 Mbps - 6 Mbps  + 6 Mbps - 10 Mbps  + 10 Mbps - 20 Mbps  \\\n",
       "0           259.866             281.550              244.555   \n",
       "1            31.320              64.653               36.336   \n",
       "2             2.716               5.028                4.638   \n",
       "3            16.067              17.846                6.704   \n",
       "4            46.457              31.007               34.728   \n",
       "\n",
       "   + 20 Mbps - 30 Mbps  + 30 Mbps    OTROS      Total  \n",
       "0               98.670  3.760.109   97.634  4.794.665  \n",
       "1                8.116  1.299.117  106.772  1.551.926  \n",
       "2                3.122     52.739    2.280     70.909  \n",
       "3                3.039     94.866    3.909    143.663  \n",
       "4               15.770     19.048   20.026    168.759  "
      ]
     },
     "execution_count": 11,
     "metadata": {},
     "output_type": "execute_result"
    }
   ],
   "source": [
    "acceso_velocidad_1.head()"
   ]
  },
  {
   "cell_type": "code",
   "execution_count": 12,
   "metadata": {},
   "outputs": [
    {
     "name": "stdout",
     "output_type": "stream",
     "text": [
      "<class 'pandas.core.frame.DataFrame'>\n",
      "RangeIndex: 864 entries, 0 to 863\n",
      "Data columns (total 12 columns):\n",
      " #   Column               Non-Null Count  Dtype  \n",
      "---  ------               --------------  -----  \n",
      " 0   Año                  864 non-null    int64  \n",
      " 1   Trimestre            864 non-null    int64  \n",
      " 2   Provincia            864 non-null    object \n",
      " 3   HASTA 512 kbps       864 non-null    float64\n",
      " 4   + 512 Kbps - 1 Mbps  864 non-null    float64\n",
      " 5   + 1 Mbps - 6 Mbps    864 non-null    object \n",
      " 6   + 6 Mbps - 10 Mbps   864 non-null    float64\n",
      " 7   + 10 Mbps - 20 Mbps  864 non-null    float64\n",
      " 8   + 20 Mbps - 30 Mbps  864 non-null    float64\n",
      " 9   + 30 Mbps            864 non-null    object \n",
      " 10  OTROS                858 non-null    float64\n",
      " 11  Total                864 non-null    object \n",
      "dtypes: float64(6), int64(2), object(4)\n",
      "memory usage: 81.1+ KB\n"
     ]
    }
   ],
   "source": [
    "acceso_velocidad_1.info()"
   ]
  },
  {
   "cell_type": "markdown",
   "metadata": {},
   "source": [
    "Vemos que la columna 'OTROS' tiene datos nulos asi que los vamos a localizar y luego tomaremos una decision con ellos"
   ]
  },
  {
   "cell_type": "code",
   "execution_count": 13,
   "metadata": {},
   "outputs": [
    {
     "data": {
      "text/html": [
       "<div>\n",
       "<style scoped>\n",
       "    .dataframe tbody tr th:only-of-type {\n",
       "        vertical-align: middle;\n",
       "    }\n",
       "\n",
       "    .dataframe tbody tr th {\n",
       "        vertical-align: top;\n",
       "    }\n",
       "\n",
       "    .dataframe thead th {\n",
       "        text-align: right;\n",
       "    }\n",
       "</style>\n",
       "<table border=\"1\" class=\"dataframe\">\n",
       "  <thead>\n",
       "    <tr style=\"text-align: right;\">\n",
       "      <th></th>\n",
       "      <th>Año</th>\n",
       "      <th>Trimestre</th>\n",
       "      <th>Provincia</th>\n",
       "      <th>HASTA 512 kbps</th>\n",
       "      <th>+ 512 Kbps - 1 Mbps</th>\n",
       "      <th>+ 1 Mbps - 6 Mbps</th>\n",
       "      <th>+ 6 Mbps - 10 Mbps</th>\n",
       "      <th>+ 10 Mbps - 20 Mbps</th>\n",
       "      <th>+ 20 Mbps - 30 Mbps</th>\n",
       "      <th>+ 30 Mbps</th>\n",
       "      <th>OTROS</th>\n",
       "      <th>Total</th>\n",
       "    </tr>\n",
       "  </thead>\n",
       "  <tbody>\n",
       "    <tr>\n",
       "      <th>337</th>\n",
       "      <td>2019</td>\n",
       "      <td>2</td>\n",
       "      <td>Capital Federal</td>\n",
       "      <td>74.0</td>\n",
       "      <td>1.027</td>\n",
       "      <td>281.370</td>\n",
       "      <td>124.087</td>\n",
       "      <td>239.691</td>\n",
       "      <td>296.155</td>\n",
       "      <td>475.991</td>\n",
       "      <td>NaN</td>\n",
       "      <td>1.418.395</td>\n",
       "    </tr>\n",
       "    <tr>\n",
       "      <th>347</th>\n",
       "      <td>2019</td>\n",
       "      <td>2</td>\n",
       "      <td>La Rioja</td>\n",
       "      <td>9.0</td>\n",
       "      <td>11.000</td>\n",
       "      <td>39.819</td>\n",
       "      <td>4.297</td>\n",
       "      <td>4.857</td>\n",
       "      <td>13.000</td>\n",
       "      <td>1.298</td>\n",
       "      <td>NaN</td>\n",
       "      <td>50.304</td>\n",
       "    </tr>\n",
       "    <tr>\n",
       "      <th>348</th>\n",
       "      <td>2019</td>\n",
       "      <td>2</td>\n",
       "      <td>Mendoza</td>\n",
       "      <td>20.0</td>\n",
       "      <td>2.522</td>\n",
       "      <td>205.165</td>\n",
       "      <td>2.971</td>\n",
       "      <td>10.092</td>\n",
       "      <td>1.256</td>\n",
       "      <td>234</td>\n",
       "      <td>NaN</td>\n",
       "      <td>222.260</td>\n",
       "    </tr>\n",
       "    <tr>\n",
       "      <th>355</th>\n",
       "      <td>2019</td>\n",
       "      <td>2</td>\n",
       "      <td>Santa Cruz</td>\n",
       "      <td>25.0</td>\n",
       "      <td>84.000</td>\n",
       "      <td>24.861</td>\n",
       "      <td>3.806</td>\n",
       "      <td>1.202</td>\n",
       "      <td>28.000</td>\n",
       "      <td>4</td>\n",
       "      <td>NaN</td>\n",
       "      <td>30.010</td>\n",
       "    </tr>\n",
       "    <tr>\n",
       "      <th>358</th>\n",
       "      <td>2019</td>\n",
       "      <td>2</td>\n",
       "      <td>Tierra Del Fuego</td>\n",
       "      <td>6.0</td>\n",
       "      <td>123.000</td>\n",
       "      <td>41.824</td>\n",
       "      <td>4.241</td>\n",
       "      <td>1.573</td>\n",
       "      <td>96.000</td>\n",
       "      <td>32</td>\n",
       "      <td>NaN</td>\n",
       "      <td>47.895</td>\n",
       "    </tr>\n",
       "    <tr>\n",
       "      <th>359</th>\n",
       "      <td>2019</td>\n",
       "      <td>2</td>\n",
       "      <td>Tucumán</td>\n",
       "      <td>16.0</td>\n",
       "      <td>157.000</td>\n",
       "      <td>78.891</td>\n",
       "      <td>44.296</td>\n",
       "      <td>24.291</td>\n",
       "      <td>628.000</td>\n",
       "      <td>18.394</td>\n",
       "      <td>NaN</td>\n",
       "      <td>166.673</td>\n",
       "    </tr>\n",
       "  </tbody>\n",
       "</table>\n",
       "</div>"
      ],
      "text/plain": [
       "      Año  Trimestre         Provincia  HASTA 512 kbps  + 512 Kbps - 1 Mbps  \\\n",
       "337  2019          2   Capital Federal            74.0                1.027   \n",
       "347  2019          2          La Rioja             9.0               11.000   \n",
       "348  2019          2           Mendoza            20.0                2.522   \n",
       "355  2019          2        Santa Cruz            25.0               84.000   \n",
       "358  2019          2  Tierra Del Fuego             6.0              123.000   \n",
       "359  2019          2           Tucumán            16.0              157.000   \n",
       "\n",
       "    + 1 Mbps - 6 Mbps  + 6 Mbps - 10 Mbps  + 10 Mbps - 20 Mbps  \\\n",
       "337           281.370             124.087              239.691   \n",
       "347            39.819               4.297                4.857   \n",
       "348           205.165               2.971               10.092   \n",
       "355            24.861               3.806                1.202   \n",
       "358            41.824               4.241                1.573   \n",
       "359            78.891              44.296               24.291   \n",
       "\n",
       "     + 20 Mbps - 30 Mbps + 30 Mbps  OTROS      Total  \n",
       "337              296.155   475.991    NaN  1.418.395  \n",
       "347               13.000     1.298    NaN     50.304  \n",
       "348                1.256       234    NaN    222.260  \n",
       "355               28.000         4    NaN     30.010  \n",
       "358               96.000        32    NaN     47.895  \n",
       "359              628.000    18.394    NaN    166.673  "
      ]
     },
     "execution_count": 13,
     "metadata": {},
     "output_type": "execute_result"
    }
   ],
   "source": [
    "nulos = acceso_velocidad_1[pd.isna(acceso_velocidad_1['OTROS'])]\n",
    "nulos"
   ]
  },
  {
   "cell_type": "markdown",
   "metadata": {},
   "source": [
    "Los valores nulos los vamos a convertir a '0'"
   ]
  },
  {
   "cell_type": "code",
   "execution_count": 14,
   "metadata": {},
   "outputs": [],
   "source": [
    "acceso_velocidad_1['OTROS'] = acceso_velocidad_1['OTROS'].fillna(0)"
   ]
  },
  {
   "cell_type": "markdown",
   "metadata": {},
   "source": [
    "Los valores tienen un '.' para los miles. Asi que vamos a eliminar esos puntos para poder tranformarlos en datos de tipo entero."
   ]
  },
  {
   "cell_type": "markdown",
   "metadata": {},
   "source": [
    "Primero convertimos todas las columnas a str para poder eliminar el '.'"
   ]
  },
  {
   "cell_type": "code",
   "execution_count": 15,
   "metadata": {},
   "outputs": [],
   "source": [
    "acceso_velocidad_1['HASTA 512 kbps'] = acceso_velocidad_1['HASTA 512 kbps'].astype(str)\n",
    "acceso_velocidad_1['+ 512 Kbps - 1 Mbps'] = acceso_velocidad_1['+ 512 Kbps - 1 Mbps'].astype(str)\n",
    "acceso_velocidad_1['+ 1 Mbps - 6 Mbps'] = acceso_velocidad_1['+ 1 Mbps - 6 Mbps'].astype(str)\n",
    "acceso_velocidad_1['+ 6 Mbps - 10 Mbps'] = acceso_velocidad_1['+ 6 Mbps - 10 Mbps'].astype(str)\n",
    "acceso_velocidad_1['+ 10 Mbps - 20 Mbps'] = acceso_velocidad_1['+ 10 Mbps - 20 Mbps'].astype(str)\n",
    "acceso_velocidad_1['+ 20 Mbps - 30 Mbps'] = acceso_velocidad_1['+ 20 Mbps - 30 Mbps'].astype(str)\n",
    "acceso_velocidad_1['+ 30 Mbps'] = acceso_velocidad_1['+ 30 Mbps'].astype(str)\n",
    "acceso_velocidad_1['OTROS'] = acceso_velocidad_1['OTROS'].astype(str)\n",
    "acceso_velocidad_1['Total'] = acceso_velocidad_1['Total'].astype(str)\n"
   ]
  },
  {
   "cell_type": "markdown",
   "metadata": {},
   "source": [
    "Una vez convertidas las columnas a str cambiamos el '.'por '' y pasamos las columnas a tipo int"
   ]
  },
  {
   "cell_type": "code",
   "execution_count": 16,
   "metadata": {},
   "outputs": [],
   "source": [
    "acceso_velocidad_1['HASTA 512 kbps'] = acceso_velocidad_1['HASTA 512 kbps'].str.replace('.','').astype(int)\n",
    "acceso_velocidad_1['+ 512 Kbps - 1 Mbps'] = acceso_velocidad_1['+ 512 Kbps - 1 Mbps'].str.replace('.','').astype(int)\n",
    "acceso_velocidad_1['+ 1 Mbps - 6 Mbps'] = acceso_velocidad_1['+ 1 Mbps - 6 Mbps'].str.replace('.','').astype(int)\n",
    "acceso_velocidad_1['+ 6 Mbps - 10 Mbps'] = acceso_velocidad_1['+ 6 Mbps - 10 Mbps'].str.replace('.','').astype(int)\n",
    "acceso_velocidad_1['+ 10 Mbps - 20 Mbps'] = acceso_velocidad_1['+ 10 Mbps - 20 Mbps'].str.replace('.','').astype(int)\n",
    "acceso_velocidad_1['+ 20 Mbps - 30 Mbps'] = acceso_velocidad_1['+ 20 Mbps - 30 Mbps'].str.replace('.','').astype(int)\n",
    "acceso_velocidad_1['+ 30 Mbps'] = acceso_velocidad_1['+ 30 Mbps'].str.replace('.','').astype(int)\n",
    "acceso_velocidad_1['OTROS'] = acceso_velocidad_1['OTROS'].str.replace('.','').astype(int)\n",
    "acceso_velocidad_1['Total'] = acceso_velocidad_1['Total'].str.replace('.','').astype(int)"
   ]
  },
  {
   "cell_type": "code",
   "execution_count": 17,
   "metadata": {},
   "outputs": [
    {
     "name": "stdout",
     "output_type": "stream",
     "text": [
      "<class 'pandas.core.frame.DataFrame'>\n",
      "RangeIndex: 864 entries, 0 to 863\n",
      "Data columns (total 12 columns):\n",
      " #   Column               Non-Null Count  Dtype \n",
      "---  ------               --------------  ----- \n",
      " 0   Año                  864 non-null    int64 \n",
      " 1   Trimestre            864 non-null    int64 \n",
      " 2   Provincia            864 non-null    object\n",
      " 3   HASTA 512 kbps       864 non-null    int32 \n",
      " 4   + 512 Kbps - 1 Mbps  864 non-null    int32 \n",
      " 5   + 1 Mbps - 6 Mbps    864 non-null    int32 \n",
      " 6   + 6 Mbps - 10 Mbps   864 non-null    int32 \n",
      " 7   + 10 Mbps - 20 Mbps  864 non-null    int32 \n",
      " 8   + 20 Mbps - 30 Mbps  864 non-null    int32 \n",
      " 9   + 30 Mbps            864 non-null    int32 \n",
      " 10  OTROS                864 non-null    int32 \n",
      " 11  Total                864 non-null    int32 \n",
      "dtypes: int32(9), int64(2), object(1)\n",
      "memory usage: 50.8+ KB\n"
     ]
    }
   ],
   "source": [
    "acceso_velocidad_1.info()"
   ]
  },
  {
   "cell_type": "code",
   "execution_count": 18,
   "metadata": {},
   "outputs": [
    {
     "data": {
      "image/png": "[encoded data removed]",
      "text/plain": [
       "<Figure size 1600x1000 with 1 Axes>"
      ]
     },
     "metadata": {},
     "output_type": "display_data"
    }
   ],
   "source": [
    "# Seleccionar las columnas de rango de velocidad\n",
    "rango = acceso_velocidad_1.columns[3:11]\n",
    "\n",
    "# Ajustar el tamaño del gráfico\n",
    "plt.figure(figsize=(16, 10))\n",
    "\n",
    "# Utilizar una paleta de colores distinguibles\n",
    "sns.set_palette(\"pastel\")\n",
    "\n",
    "# Crear el gráfico de barras apiladas para los totales\n",
    "sns.barplot(data=acceso_velocidad_1[rango], errorbar=None)\n",
    "\n",
    "# Agregar título y etiquetas\n",
    "plt.title('Conteo total de accesos por velocidad')\n",
    "plt.xlabel('Rango de Velocidad')\n",
    "plt.ylabel('Conteo Total de Conexiones')\n",
    "\n",
    "# Rotar las etiquetas en el eje x\n",
    "plt.xticks(rotation=45)\n",
    "\n",
    "# Mostrar el gráfico\n",
    "plt.show()"
   ]
  },
  {
   "cell_type": "markdown",
   "metadata": {},
   "source": [
    "En este grafico podemos ver el Conteo Total de Conexiones"
   ]
  }
 ],
 "metadata": {
  "kernelspec": {
   "display_name": "Python 3",
   "language": "python",
   "name": "python3"
  },
  "language_info": {
   "codemirror_mode": {
    "name": "ipython",
    "version": 3
   },
   "file_extension": ".py",
   "mimetype": "text/x-python",
   "name": "python",
   "nbconvert_exporter": "python",
   "pygments_lexer": "ipython3",
   "version": "3.11.6"
  }
 },
 "nbformat": 4,
 "nbformat_minor": 2
}
